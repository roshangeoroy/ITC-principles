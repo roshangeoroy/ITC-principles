{
  "nbformat": 4,
  "nbformat_minor": 0,
  "metadata": {
    "colab": {
      "name": "Untitled2.ipynb",
      "provenance": [],
      "include_colab_link": true
    },
    "kernelspec": {
      "name": "python3",
      "display_name": "Python 3"
    },
    "language_info": {
      "name": "python"
    }
  },
  "cells": [
    {
      "cell_type": "markdown",
      "metadata": {
        "id": "view-in-github",
        "colab_type": "text"
      },
      "source": [
        "<a href=\"https://colab.research.google.com/github/roshangeoroy/ITC-principles/blob/main/Convolutional%20Code.ipynb\" target=\"_parent\"><img src=\"https://colab.research.google.com/assets/colab-badge.svg\" alt=\"Open In Colab\"/></a>"
      ]
    },
    {
      "cell_type": "markdown",
      "source": [
        "##Convolutional Code\n",
        "1. Implement (2,1,3) convolutional encoder in Fig. 10.1 in page 288 in Error Control\n",
        "Coding: Fundamentals and Applications by Shu Lin & Daniel J. Costello. Jr.\n",
        "2. Give a message vector, u of arbitrary length as input to the encoder.\n",
        "3. Generate the output code sequence\n",
        "\n",
        "![ys.PNG](data:image/png;base64,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)"
      ],
      "metadata": {
        "id": "ywpdYnIVNYPI"
      }
    },
    {
      "cell_type": "code",
      "execution_count": 2,
      "metadata": {
        "colab": {
          "base_uri": "https://localhost:8080/"
        },
        "id": "_IenxyJ4NQ2E",
        "outputId": "6895802a-904e-4f87-9e03-b6925c1cffb7"
      },
      "outputs": [
        {
          "output_type": "stream",
          "name": "stdout",
          "text": [
            "Enter input message: 1,0,1,1,1\n",
            "[1, 1, 0, 1, 0, 0, 0, 1, 0, 1, 0, 1, 0, 0, 1, 1]\n"
          ]
        }
      ],
      "source": [
        "import numpy as np\n",
        "g1=np.array([1,0,1,1])\n",
        "g2=np.array([1,1,1,1])\n",
        "u=np.array(input(\"Enter input message: \").split(','))\n",
        "u=[int(x) for x in u]\n",
        "v1=np.convolve(u,g1)\n",
        "v1=[x%2 for x in v1]\n",
        "v2=np.convolve(u,g2)\n",
        "v2=[x%2 for x in v2]\n",
        "v=np.empty(shape=(len(v1)+len(v2)))\n",
        "v[::2]=[x for x in v1]\n",
        "v[1::2]=[x for x in v2]\n",
        "print([int(x) for x in v])"
      ]
    },
    {
      "cell_type": "code",
      "source": [
        "Gr=np.empty(shape=(len(u),2*(len(g1)+len(u)-1)))\n",
        "for i in range(len(u)):\n",
        "    in_zeros=np.zeros(2*i)\n",
        "    r=np.empty(shape=(len(g1)+len(g2)))\n",
        "    r[::2]=[x for x in g1]\n",
        "    r[1::2]=[x for x in g2]\n",
        "    end_zeros=np.zeros(((len(g1)+len(u)))-2*i-1)\n",
        "    r1=np.concatenate((in_zeros,r,end_zeros))\n",
        "    Gr[i]=r1\n",
        "v_gen=u@Gr\n",
        "print([int(x%2) for x in v_gen])"
      ],
      "metadata": {
        "colab": {
          "base_uri": "https://localhost:8080/"
        },
        "id": "ah-5CuN8NdpB",
        "outputId": "139a1d3b-175d-4754-dc2b-76212d713fcf"
      },
      "execution_count": null,
      "outputs": [
        {
          "output_type": "stream",
          "name": "stdout",
          "text": [
            "[1, 1, 0, 1, 0, 0, 0, 1, 0, 1, 0, 1, 0, 0, 1, 1]\n"
          ]
        }
      ]
    }
  ]
}