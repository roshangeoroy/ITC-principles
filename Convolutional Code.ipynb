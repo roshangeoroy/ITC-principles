{
  "nbformat": 4,
  "nbformat_minor": 0,
  "metadata": {
    "colab": {
      "name": "Untitled2.ipynb",
      "provenance": [],
      "authorship_tag": "ABX9TyO2qMUvOvwdUdBQ8yj929pE",
      "include_colab_link": true
    },
    "kernelspec": {
      "name": "python3",
      "display_name": "Python 3"
    },
    "language_info": {
      "name": "python"
    }
  },
  "cells": [
    {
      "cell_type": "markdown",
      "metadata": {
        "id": "view-in-github",
        "colab_type": "text"
      },
      "source": [
        "<a href=\"https://colab.research.google.com/github/roshangeoroy/ITC-principles/blob/main/Convolutional%20Code.ipynb\" target=\"_parent\"><img src=\"https://colab.research.google.com/assets/colab-badge.svg\" alt=\"Open In Colab\"/></a>"
      ]
    },
    {
      "cell_type": "code",
      "source": [
        ""
      ],
      "metadata": {
        "id": "atSOMgM9NVhx"
      },
      "execution_count": null,
      "outputs": []
    },
    {
      "cell_type": "markdown",
      "source": [
        ""
      ],
      "metadata": {
        "id": "ywpdYnIVNYPI"
      }
    },
    {
      "cell_type": "code",
      "execution_count": 2,
      "metadata": {
        "colab": {
          "base_uri": "https://localhost:8080/"
        },
        "id": "_IenxyJ4NQ2E",
        "outputId": "5b7d33f9-567a-4fd6-ae6a-0d0c155de890"
      },
      "outputs": [
        {
          "output_type": "stream",
          "name": "stdout",
          "text": [
            "Enter input message: 1,0,1,1,1\n",
            "[1, 1, 0, 1, 0, 0, 0, 1, 0, 1, 0, 1, 0, 0, 1, 1]\n"
          ]
        }
      ],
      "source": [
        "import numpy as np\n",
        "g1=np.array([1,0,1,1])\n",
        "g2=np.array([1,1,1,1])\n",
        "u=np.array(input(\"Enter input message: \").split(','))\n",
        "u=[int(x) for x in u]\n",
        "v1=np.convolve(u,g1)\n",
        "v1=[x%2 for x in v1]\n",
        "v2=np.convolve(u,g2)\n",
        "v2=[x%2 for x in v2]\n",
        "v=np.empty(shape=(len(v1)+len(v2)))\n",
        "v[::2]=[x for x in v1]\n",
        "v[1::2]=[x for x in v2]\n",
        "print([int(x) for x in v])"
      ]
    },
    {
      "cell_type": "code",
      "source": [
        "Gr=np.empty(shape=(len(u),2*(len(g1)+len(u)-1)))\n",
        "for i in range(len(u)):\n",
        "    in_zeros=np.zeros(2*i)\n",
        "    r=np.empty(shape=(len(g1)+len(g2)))\n",
        "    r[::2]=[x for x in g1]\n",
        "    r[1::2]=[x for x in g2]\n",
        "    end_zeros=np.zeros(((len(g1)+len(u)))-2*i-1)\n",
        "    r1=np.concatenate((in_zeros,r,end_zeros))\n",
        "    Gr[i]=r1\n",
        "    \n",
        "##print(Gr)\n",
        "\n",
        "v_gen=u@Gr\n",
        "print([int(x%2) for x in v_gen])"
      ],
      "metadata": {
        "colab": {
          "base_uri": "https://localhost:8080/"
        },
        "id": "ah-5CuN8NdpB",
        "outputId": "139a1d3b-175d-4754-dc2b-76212d713fcf"
      },
      "execution_count": 3,
      "outputs": [
        {
          "output_type": "stream",
          "name": "stdout",
          "text": [
            "[1, 1, 0, 1, 0, 0, 0, 1, 0, 1, 0, 1, 0, 0, 1, 1]\n"
          ]
        }
      ]
    },
    {
      "cell_type": "code",
      "source": [
        ""
      ],
      "metadata": {
        "id": "AFnDLxR_ObF3"
      },
      "execution_count": null,
      "outputs": []
    }
  ]
}