{
  "nbformat": 4,
  "nbformat_minor": 0,
  "metadata": {
    "colab": {
      "name": "Source Coding (Huffman).ipynb",
      "provenance": [],
      "authorship_tag": "ABX9TyOZqQI4Az33Plx8D48guTZR",
      "include_colab_link": true
    },
    "kernelspec": {
      "name": "python3",
      "display_name": "Python 3"
    },
    "language_info": {
      "name": "python"
    }
  },
  "cells": [
    {
      "cell_type": "markdown",
      "metadata": {
        "id": "view-in-github",
        "colab_type": "text"
      },
      "source": [
        "<a href=\"https://colab.research.google.com/github/roshangeoroy/ITCprinciples_Python_Simulations/blob/main/Source_Coding_(Huffman).ipynb\" target=\"_parent\"><img src=\"https://colab.research.google.com/assets/colab-badge.svg\" alt=\"Open In Colab\"/></a>"
      ]
    },
    {
      "cell_type": "markdown",
      "source": [
        "##Source Coding - Huffman Code\n",
        "1. Generate Huffman code for the source with symbol probabilities {1/2, 1/3, 1/6}.\n",
        "2. Find the entropy, average codeword length and efficiency of the code.\n",
        "3. Create the second order extended source by taking probabilities of 9 symbols in the\n",
        "extended source as the product of every possible combinations of two symbols from\n",
        "the original source.\n",
        "4. Generate Huffman code for the extended source symbols and find the entropy,\n",
        "average codeword length and efficiency of the code.\n",
        "5. Compare the two efficiencies and appreciate the Shannon’s source coding theorem."
      ],
      "metadata": {
        "id": "VvSoh959WQej"
      }
    },
    {
      "cell_type": "code",
      "execution_count": 45,
      "metadata": {
        "colab": {
          "base_uri": "https://localhost:8080/"
        },
        "id": "3QOpUta3Ve0t",
        "outputId": "ab82298b-77f2-42ae-e6e0-76d341ba528c"
      },
      "outputs": [
        {
          "output_type": "stream",
          "name": "stdout",
          "text": [
            "ENCODING MAP IS :  {'A': '0', 'C': '10', 'B': '11'}\n",
            "Entropy:  1.4591479170272446 bits\n",
            "Average Word Length:  1.4999999999999998 bits\n",
            "Efiiciency: 97.27652780181631 %\n"
          ]
        }
      ],
      "source": [
        "import heapq\n",
        "import numpy as np\n",
        "#Defining Symbols with specified Probabilities\n",
        "symbols={'A':1/2,'B':1/3,'C':1/6}\n",
        "\n",
        "#defining Node structure\n",
        "class HeapNode:\n",
        "\n",
        "  def __init__(self,value,ch,left,right):\n",
        "    self.value=value\n",
        "    self.ch=ch\n",
        "    self.left=left\n",
        "    self.right=right\n",
        "  #function to print value of node  \n",
        "  def __str__(self):\n",
        "    return \"{}\".format(self.value)\n",
        "  #less than operator on node (<)\n",
        "  def __lt__(self,other):\n",
        "    return self.value<other.value\n",
        "  #equalto operator on node (==)\n",
        "  def __eq__(self,other):\n",
        "    return self.value==other.value\n",
        "\n",
        "#making a min heap with the symbols\n",
        "heap=[HeapNode(symbols[i],i,None,None) for i in symbols]\n",
        "heapq.heapify(heap)\n",
        "\n",
        "#merging smallest two nodes into one parent node till there is only one node in the heap/priority queue\n",
        "while len(heap)>1:\n",
        "  x=heapq.heappop(heap)\n",
        "  y=heapq.heappop(heap)\n",
        "  sum=HeapNode(x.value+y.value,None,x,y)\n",
        "  heapq.heappush(heap,sum)\n",
        "\n",
        "map={}\n",
        "\n",
        "#DepthFirstSearch algorithms finds the Symbol nodes and adds the specific encoded bits got through traversing the heap\n",
        "def dfs(node,code):\n",
        "  if node.ch:\n",
        "    map[node.ch]=code\n",
        "  else:\n",
        "    dfs(node.left,code+'0')\n",
        "    dfs(node.right,code+'1')\n",
        "\n",
        "#calling the function to get the map \n",
        "dfs(heap[0],'')\n",
        "\n",
        "#printing the MAP\n",
        "print('ENCODING MAP IS : ',map)\n",
        "\n",
        "#calculating entropy\n",
        "entropy=0\n",
        "for key in symbols:\n",
        "  entropy=entropy+ symbols[key]*np.log2(1/symbols[key])\n",
        "\n",
        "#calculating average codeword length\n",
        "wordlength=0\n",
        "for key in symbols:\n",
        "  wordlength=wordlength+symbols[key]*len(map[key])\n",
        "\n",
        "#calculating efficiency\n",
        "eff=(entropy/wordlength)*100\n",
        "print('Entropy: ',entropy,'bits')\n",
        "print('Average Word Length: ',wordlength,'bits')\n",
        "print('Efiiciency:',eff,'%')"
      ]
    },
    {
      "cell_type": "code",
      "source": [
        "\n",
        "#Defining Symbols with specified Probabilities\n",
        "symbols={'AA':1/4,'AC':1/12,'AB':1/6,'BA':1/6,'BB':1/9,'BC':1/18,'CA':1/12,'CB':1/18,'CC':1/36}\n",
        "\n",
        "#defining Node structure\n",
        "class HeapNode:\n",
        "\n",
        "  def __init__(self,value,ch,left,right):\n",
        "    self.value=value\n",
        "    self.ch=ch\n",
        "    self.left=left\n",
        "    self.right=right\n",
        "  #function to print value of node  \n",
        "  def __str__(self):\n",
        "    return \"{}\".format(self.value)\n",
        "  #less than operator on node (<)\n",
        "  def __lt__(self,other):\n",
        "    return self.value<other.value\n",
        "  #equalto operator on node (==)\n",
        "  def __eq__(self,other):\n",
        "    return self.value==other.value\n",
        "\n",
        "#making a min heap with the symbols\n",
        "heap=[HeapNode(symbols[i],i,None,None) for i in symbols]\n",
        "heapq.heapify(heap)\n",
        "\n",
        "#merging smallest two nodes into one parent node till there is only one node in the heap/priority queue\n",
        "while len(heap)>1:\n",
        "  x=heapq.heappop(heap)\n",
        "  y=heapq.heappop(heap)\n",
        "  sum=HeapNode(x.value+y.value,None,x,y)\n",
        "  heapq.heappush(heap,sum)\n",
        "\n",
        "map={}\n",
        "\n",
        "#DepthFirstSearch algorithms finds the Symbol nodes and adds the specific encoded bits got through traversing the heap\n",
        "def dfs(node,code):\n",
        "  if node.ch:\n",
        "    map[node.ch]=code\n",
        "  else:\n",
        "    dfs(node.left,code+'0')\n",
        "    dfs(node.right,code+'1')\n",
        "\n",
        "#calling the function to get the map \n",
        "dfs(heap[0],'')\n",
        "\n",
        "#printing the MAP\n",
        "print('ENCODING MAP IS : ',map)\n",
        "\n",
        "#calculating entropy\n",
        "entropy=0\n",
        "for key in symbols:\n",
        "  entropy=entropy+ symbols[key]*np.log2(1/symbols[key])\n",
        "\n",
        "#calculating average codeword length\n",
        "wordlength=0\n",
        "for key in symbols:\n",
        "  wordlength=wordlength+symbols[key]*len(map[key])\n",
        "\n",
        "#calculating efficiency\n",
        "eff=(entropy/wordlength)*100\n",
        "print('Entropy: ',entropy,'bits')\n",
        "print('Average Word Length: ',wordlength,'bits')\n",
        "print('Efiiciency:',eff,'%')"
      ],
      "metadata": {
        "colab": {
          "base_uri": "https://localhost:8080/"
        },
        "id": "mntv4o0Pv2Ch",
        "outputId": "6802717d-e7fa-45e3-9ad5-f8604a0627d4"
      },
      "execution_count": 46,
      "outputs": [
        {
          "output_type": "stream",
          "name": "stdout",
          "text": [
            "ENCODING MAP IS :  {'BA': '00', 'BB': '010', 'CB': '0110', 'CA': '0111', 'AA': '10', 'AC': '1100', 'CC': '11010', 'BC': '11011', 'AB': '111'}\n",
            "Entropy:  2.918295834054489 bits\n",
            "Average Word Length:  2.9722222222222223 bits\n",
            "Efiiciency: 98.18565422987065 %\n"
          ]
        }
      ]
    },
    {
      "cell_type": "markdown",
      "source": [
        "###Observation\n",
        "Efficiency for Extended source is more than the first one. "
      ],
      "metadata": {
        "id": "d4vdIVacIOzn"
      }
    }
  ]
}