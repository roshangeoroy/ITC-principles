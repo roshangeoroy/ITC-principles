{
  "nbformat": 4,
  "nbformat_minor": 0,
  "metadata": {
    "colab": {
      "name": "Untitled3.ipynb",
      "provenance": [],
      "authorship_tag": "ABX9TyOxZ2vvF+WmNudDPWebOcgr",
      "include_colab_link": true
    },
    "kernelspec": {
      "name": "python3",
      "display_name": "Python 3"
    },
    "language_info": {
      "name": "python"
    }
  },
  "cells": [
    {
      "cell_type": "markdown",
      "metadata": {
        "id": "view-in-github",
        "colab_type": "text"
      },
      "source": [
        "<a href=\"https://colab.research.google.com/github/roshangeoroy/ITC-principles/blob/main/Linear%20Block%20Code.ipynb\" target=\"_parent\"><img src=\"https://colab.research.google.com/assets/colab-badge.svg\" alt=\"Open In Colab\"/></a>"
      ]
    },
    {
      "cell_type": "code",
      "execution_count": 1,
      "metadata": {
        "colab": {
          "base_uri": "https://localhost:8080/"
        },
        "id": "i3YztTVq13fe",
        "outputId": "efe77623-259e-45be-e3e9-b1de29cb2bb1"
      },
      "outputs": [
        {
          "name": "stdout",
          "output_type": "stream",
          "text": [
            "Enter the no.of.information bits: 4\n",
            "Enter the length of codeword: 7\n"
          ]
        }
      ],
      "source": [
        "import numpy as np\n",
        "k=int(input(\"Enter the no.of.information bits: \"))\n",
        "n=int(input(\"Enter the length of codeword: \"))"
      ]
    },
    {
      "cell_type": "code",
      "source": [
        "P=input(\"Enter Parity Matrix of size {}x{} : \".format(k,n-k)).split(',')\n",
        "P=np.array([int(x) for x in P])\n",
        "P=P.reshape(k,n-k)\n",
        "i_gen=list()\n",
        "for i in range(k):\n",
        "    i_gen.append(1)\n",
        "I=np.diag(i_gen)\n",
        "G=np.concatenate((I,P),axis=1)\n",
        "print(G)"
      ],
      "metadata": {
        "colab": {
          "base_uri": "https://localhost:8080/"
        },
        "id": "sBmHruH_19I8",
        "outputId": "15894f64-0173-47d0-cf5a-d0857648b813"
      },
      "execution_count": 2,
      "outputs": [
        {
          "output_type": "stream",
          "name": "stdout",
          "text": [
            "Enter Parity Matrix of size 4x3 : 1,0,1,1,1,1,1,1,0,0,1,1\n",
            "[[1 0 0 0 1 0 1]\n",
            " [0 1 0 0 1 1 1]\n",
            " [0 0 1 0 1 1 0]\n",
            " [0 0 0 1 0 1 1]]\n"
          ]
        }
      ]
    },
    {
      "cell_type": "code",
      "source": [
        "C=np.empty(shape=(2**k,n))\n",
        "for i in range(2**k):\n",
        "    r=np.array([int(x) for x in np.binary_repr((i),width=k)])\n",
        "    m=[int(x%2) for x in r@G]\n",
        "    C[i]=m\n",
        "    \n",
        "print(C)"
      ],
      "metadata": {
        "colab": {
          "base_uri": "https://localhost:8080/"
        },
        "id": "C4-2aHMn2Iy3",
        "outputId": "aab52d29-ea48-4a77-ffce-d8f02e641c70"
      },
      "execution_count": 3,
      "outputs": [
        {
          "output_type": "stream",
          "name": "stdout",
          "text": [
            "[[0. 0. 0. 0. 0. 0. 0.]\n",
            " [0. 0. 0. 1. 0. 1. 1.]\n",
            " [0. 0. 1. 0. 1. 1. 0.]\n",
            " [0. 0. 1. 1. 1. 0. 1.]\n",
            " [0. 1. 0. 0. 1. 1. 1.]\n",
            " [0. 1. 0. 1. 1. 0. 0.]\n",
            " [0. 1. 1. 0. 0. 0. 1.]\n",
            " [0. 1. 1. 1. 0. 1. 0.]\n",
            " [1. 0. 0. 0. 1. 0. 1.]\n",
            " [1. 0. 0. 1. 1. 1. 0.]\n",
            " [1. 0. 1. 0. 0. 1. 1.]\n",
            " [1. 0. 1. 1. 0. 0. 0.]\n",
            " [1. 1. 0. 0. 0. 1. 0.]\n",
            " [1. 1. 0. 1. 0. 0. 1.]\n",
            " [1. 1. 1. 0. 1. 0. 0.]\n",
            " [1. 1. 1. 1. 1. 1. 1.]]\n"
          ]
        }
      ]
    },
    {
      "cell_type": "code",
      "source": [
        "H=[]\n",
        "H.append(0)\n",
        "for i in range(len(C)-1):\n",
        "    d=[int(x%2) for x in C[i]+C[i+1]]\n",
        "    H.append(np.sum(d))\n",
        "      \n",
        "Hd=np.min(H[1:])\n",
        "print(Hd)"
      ],
      "metadata": {
        "colab": {
          "base_uri": "https://localhost:8080/"
        },
        "id": "wnspRT6v2PEz",
        "outputId": "07a1ce73-7109-4223-e9da-c156a2daa602"
      },
      "execution_count": 4,
      "outputs": [
        {
          "output_type": "stream",
          "name": "stdout",
          "text": [
            "3\n"
          ]
        }
      ]
    },
    {
      "cell_type": "code",
      "source": [
        "s=Hd-1\n",
        "print(\"Error detecting capacity: upto\",s,\"bits\")\n",
        "t=0.5*(Hd-1)\n",
        "print(\"Error correcting capacity: upto\",int(t),\"bits\")"
      ],
      "metadata": {
        "colab": {
          "base_uri": "https://localhost:8080/"
        },
        "id": "JoVWThUr2RVI",
        "outputId": "7a809176-947b-4a3f-ce56-8ea81bb2c81a"
      },
      "execution_count": 5,
      "outputs": [
        {
          "output_type": "stream",
          "name": "stdout",
          "text": [
            "Error detecting capacity: upto 2 bits\n",
            "Error correcting capacity: upto 1 bits\n"
          ]
        }
      ]
    },
    {
      "cell_type": "code",
      "source": [
        ""
      ],
      "metadata": {
        "id": "GoR9x9BM2UKS"
      },
      "execution_count": null,
      "outputs": []
    }
  ]
}