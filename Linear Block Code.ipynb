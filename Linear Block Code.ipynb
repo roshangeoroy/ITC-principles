{
  "nbformat": 4,
  "nbformat_minor": 0,
  "metadata": {
    "colab": {
      "name": "Untitled3.ipynb",
      "provenance": [],
      "include_colab_link": true
    },
    "kernelspec": {
      "name": "python3",
      "display_name": "Python 3"
    },
    "language_info": {
      "name": "python"
    }
  },
  "cells": [
    {
      "cell_type": "markdown",
      "metadata": {
        "id": "view-in-github",
        "colab_type": "text"
      },
      "source": [
        "<a href=\"https://colab.research.google.com/github/roshangeoroy/ITC-principles/blob/main/Linear%20Block%20Code.ipynb\" target=\"_parent\"><img src=\"https://colab.research.google.com/assets/colab-badge.svg\" alt=\"Open In Colab\"/></a>"
      ]
    },
    {
      "cell_type": "markdown",
      "source": [
        "##Linear Block Code (LBC)\n",
        "1. Create the k x n generator matrix, G of (n, k) LBC.\n",
        "2. Generate all possible codewords by multiplying the message vector of length, k\n",
        "with G.\n",
        "3. Calculate the Hamming weight of all codewords and obtain the minimum distance,\n",
        "dmin of the code.\n",
        "4. Find its error correcting and detecting capability.\n"
      ],
      "metadata": {
        "id": "KQ8jtqTEMctl"
      }
    },
    {
      "cell_type": "code",
      "execution_count": 5,
      "metadata": {
        "colab": {
          "base_uri": "https://localhost:8080/"
        },
        "id": "i3YztTVq13fe",
        "outputId": "c8118360-bdb9-4e63-9b36-799cb8745253"
      },
      "outputs": [
        {
          "name": "stdout",
          "output_type": "stream",
          "text": [
            "Enter the no.of.information bits: 4\n",
            "Enter the length of codeword: 7\n"
          ]
        }
      ],
      "source": [
        "import numpy as np\n",
        "k=int(input(\"Enter the no.of.information bits: \"))\n",
        "n=int(input(\"Enter the length of codeword: \"))"
      ]
    },
    {
      "cell_type": "code",
      "source": [
        "#inputing Parity Matrix (Hamming)\n",
        "P=input(\"Enter Parity Matrix of size {}x{} : \".format(k,n-k)).split(',')\n",
        "P=np.array([int(x) for x in P])\n",
        "P=P.reshape(k,n-k)\n",
        "i_gen=list()\n",
        "for i in range(k):\n",
        "    i_gen.append(1)\n",
        "I=np.diag(i_gen)\n",
        "G=np.concatenate((P,I),axis=1)\n",
        "print('Generator Matrix is :\\n',G)"
      ],
      "metadata": {
        "colab": {
          "base_uri": "https://localhost:8080/"
        },
        "id": "sBmHruH_19I8",
        "outputId": "aeb61384-2a43-4b86-96fc-5f4f1abd7a6f"
      },
      "execution_count": 13,
      "outputs": [
        {
          "output_type": "stream",
          "name": "stdout",
          "text": [
            "Enter Parity Matrix of size 4x3 : 1,1,0,0,1,1,1,1,1,1,0,1\n",
            "Generator Matrix is :\n",
            " [[1 1 0 1 0 0 0]\n",
            " [0 1 1 0 1 0 0]\n",
            " [1 1 1 0 0 1 0]\n",
            " [1 0 1 0 0 0 1]]\n"
          ]
        }
      ]
    },
    {
      "cell_type": "code",
      "source": [
        "C=np.empty(shape=(2**k,n))\n",
        "X={}\n",
        "for i in range(2**k):\n",
        "\n",
        "    r=np.array([int(x) for x in np.binary_repr((i),width=k)])\n",
        "    m=[int(x%2) for x in r@G]\n",
        "    \n",
        "    X[np.binary_repr((i),width=k)]=m\n",
        "    C[i]=m\n",
        "\n",
        "import pandas    as pd\n",
        "y={'MessageWord':[key for key in X],'CodeWord':[X[i] for i in X]}\n",
        "Y=pd.DataFrame(y)\n",
        "Y\n"
      ],
      "metadata": {
        "colab": {
          "base_uri": "https://localhost:8080/",
          "height": 551
        },
        "id": "C4-2aHMn2Iy3",
        "outputId": "b020773d-bcbe-4bf6-bc22-4225deb49a6b"
      },
      "execution_count": 33,
      "outputs": [
        {
          "output_type": "execute_result",
          "data": {
            "text/plain": [
              "   MessageWord               CodeWord\n",
              "0         0000  [0, 0, 0, 0, 0, 0, 0]\n",
              "1         0001  [1, 0, 1, 0, 0, 0, 1]\n",
              "2         0010  [1, 1, 1, 0, 0, 1, 0]\n",
              "3         0011  [0, 1, 0, 0, 0, 1, 1]\n",
              "4         0100  [0, 1, 1, 0, 1, 0, 0]\n",
              "5         0101  [1, 1, 0, 0, 1, 0, 1]\n",
              "6         0110  [1, 0, 0, 0, 1, 1, 0]\n",
              "7         0111  [0, 0, 1, 0, 1, 1, 1]\n",
              "8         1000  [1, 1, 0, 1, 0, 0, 0]\n",
              "9         1001  [0, 1, 1, 1, 0, 0, 1]\n",
              "10        1010  [0, 0, 1, 1, 0, 1, 0]\n",
              "11        1011  [1, 0, 0, 1, 0, 1, 1]\n",
              "12        1100  [1, 0, 1, 1, 1, 0, 0]\n",
              "13        1101  [0, 0, 0, 1, 1, 0, 1]\n",
              "14        1110  [0, 1, 0, 1, 1, 1, 0]\n",
              "15        1111  [1, 1, 1, 1, 1, 1, 1]"
            ],
            "text/html": [
              "\n",
              "  <div id=\"df-6d7033da-8b7a-4d9a-a5fc-0a6d6f5818e2\">\n",
              "    <div class=\"colab-df-container\">\n",
              "      <div>\n",
              "<style scoped>\n",
              "    .dataframe tbody tr th:only-of-type {\n",
              "        vertical-align: middle;\n",
              "    }\n",
              "\n",
              "    .dataframe tbody tr th {\n",
              "        vertical-align: top;\n",
              "    }\n",
              "\n",
              "    .dataframe thead th {\n",
              "        text-align: right;\n",
              "    }\n",
              "</style>\n",
              "<table border=\"1\" class=\"dataframe\">\n",
              "  <thead>\n",
              "    <tr style=\"text-align: right;\">\n",
              "      <th></th>\n",
              "      <th>MessageWord</th>\n",
              "      <th>CodeWord</th>\n",
              "    </tr>\n",
              "  </thead>\n",
              "  <tbody>\n",
              "    <tr>\n",
              "      <th>0</th>\n",
              "      <td>0000</td>\n",
              "      <td>[0, 0, 0, 0, 0, 0, 0]</td>\n",
              "    </tr>\n",
              "    <tr>\n",
              "      <th>1</th>\n",
              "      <td>0001</td>\n",
              "      <td>[1, 0, 1, 0, 0, 0, 1]</td>\n",
              "    </tr>\n",
              "    <tr>\n",
              "      <th>2</th>\n",
              "      <td>0010</td>\n",
              "      <td>[1, 1, 1, 0, 0, 1, 0]</td>\n",
              "    </tr>\n",
              "    <tr>\n",
              "      <th>3</th>\n",
              "      <td>0011</td>\n",
              "      <td>[0, 1, 0, 0, 0, 1, 1]</td>\n",
              "    </tr>\n",
              "    <tr>\n",
              "      <th>4</th>\n",
              "      <td>0100</td>\n",
              "      <td>[0, 1, 1, 0, 1, 0, 0]</td>\n",
              "    </tr>\n",
              "    <tr>\n",
              "      <th>5</th>\n",
              "      <td>0101</td>\n",
              "      <td>[1, 1, 0, 0, 1, 0, 1]</td>\n",
              "    </tr>\n",
              "    <tr>\n",
              "      <th>6</th>\n",
              "      <td>0110</td>\n",
              "      <td>[1, 0, 0, 0, 1, 1, 0]</td>\n",
              "    </tr>\n",
              "    <tr>\n",
              "      <th>7</th>\n",
              "      <td>0111</td>\n",
              "      <td>[0, 0, 1, 0, 1, 1, 1]</td>\n",
              "    </tr>\n",
              "    <tr>\n",
              "      <th>8</th>\n",
              "      <td>1000</td>\n",
              "      <td>[1, 1, 0, 1, 0, 0, 0]</td>\n",
              "    </tr>\n",
              "    <tr>\n",
              "      <th>9</th>\n",
              "      <td>1001</td>\n",
              "      <td>[0, 1, 1, 1, 0, 0, 1]</td>\n",
              "    </tr>\n",
              "    <tr>\n",
              "      <th>10</th>\n",
              "      <td>1010</td>\n",
              "      <td>[0, 0, 1, 1, 0, 1, 0]</td>\n",
              "    </tr>\n",
              "    <tr>\n",
              "      <th>11</th>\n",
              "      <td>1011</td>\n",
              "      <td>[1, 0, 0, 1, 0, 1, 1]</td>\n",
              "    </tr>\n",
              "    <tr>\n",
              "      <th>12</th>\n",
              "      <td>1100</td>\n",
              "      <td>[1, 0, 1, 1, 1, 0, 0]</td>\n",
              "    </tr>\n",
              "    <tr>\n",
              "      <th>13</th>\n",
              "      <td>1101</td>\n",
              "      <td>[0, 0, 0, 1, 1, 0, 1]</td>\n",
              "    </tr>\n",
              "    <tr>\n",
              "      <th>14</th>\n",
              "      <td>1110</td>\n",
              "      <td>[0, 1, 0, 1, 1, 1, 0]</td>\n",
              "    </tr>\n",
              "    <tr>\n",
              "      <th>15</th>\n",
              "      <td>1111</td>\n",
              "      <td>[1, 1, 1, 1, 1, 1, 1]</td>\n",
              "    </tr>\n",
              "  </tbody>\n",
              "</table>\n",
              "</div>\n",
              "      <button class=\"colab-df-convert\" onclick=\"convertToInteractive('df-6d7033da-8b7a-4d9a-a5fc-0a6d6f5818e2')\"\n",
              "              title=\"Convert this dataframe to an interactive table.\"\n",
              "              style=\"display:none;\">\n",
              "        \n",
              "  <svg xmlns=\"http://www.w3.org/2000/svg\" height=\"24px\"viewBox=\"0 0 24 24\"\n",
              "       width=\"24px\">\n",
              "    <path d=\"M0 0h24v24H0V0z\" fill=\"none\"/>\n",
              "    <path d=\"M18.56 5.44l.94 2.06.94-2.06 2.06-.94-2.06-.94-.94-2.06-.94 2.06-2.06.94zm-11 1L8.5 8.5l.94-2.06 2.06-.94-2.06-.94L8.5 2.5l-.94 2.06-2.06.94zm10 10l.94 2.06.94-2.06 2.06-.94-2.06-.94-.94-2.06-.94 2.06-2.06.94z\"/><path d=\"M17.41 7.96l-1.37-1.37c-.4-.4-.92-.59-1.43-.59-.52 0-1.04.2-1.43.59L10.3 9.45l-7.72 7.72c-.78.78-.78 2.05 0 2.83L4 21.41c.39.39.9.59 1.41.59.51 0 1.02-.2 1.41-.59l7.78-7.78 2.81-2.81c.8-.78.8-2.07 0-2.86zM5.41 20L4 18.59l7.72-7.72 1.47 1.35L5.41 20z\"/>\n",
              "  </svg>\n",
              "      </button>\n",
              "      \n",
              "  <style>\n",
              "    .colab-df-container {\n",
              "      display:flex;\n",
              "      flex-wrap:wrap;\n",
              "      gap: 12px;\n",
              "    }\n",
              "\n",
              "    .colab-df-convert {\n",
              "      background-color: #E8F0FE;\n",
              "      border: none;\n",
              "      border-radius: 50%;\n",
              "      cursor: pointer;\n",
              "      display: none;\n",
              "      fill: #1967D2;\n",
              "      height: 32px;\n",
              "      padding: 0 0 0 0;\n",
              "      width: 32px;\n",
              "    }\n",
              "\n",
              "    .colab-df-convert:hover {\n",
              "      background-color: #E2EBFA;\n",
              "      box-shadow: 0px 1px 2px rgba(60, 64, 67, 0.3), 0px 1px 3px 1px rgba(60, 64, 67, 0.15);\n",
              "      fill: #174EA6;\n",
              "    }\n",
              "\n",
              "    [theme=dark] .colab-df-convert {\n",
              "      background-color: #3B4455;\n",
              "      fill: #D2E3FC;\n",
              "    }\n",
              "\n",
              "    [theme=dark] .colab-df-convert:hover {\n",
              "      background-color: #434B5C;\n",
              "      box-shadow: 0px 1px 3px 1px rgba(0, 0, 0, 0.15);\n",
              "      filter: drop-shadow(0px 1px 2px rgba(0, 0, 0, 0.3));\n",
              "      fill: #FFFFFF;\n",
              "    }\n",
              "  </style>\n",
              "\n",
              "      <script>\n",
              "        const buttonEl =\n",
              "          document.querySelector('#df-6d7033da-8b7a-4d9a-a5fc-0a6d6f5818e2 button.colab-df-convert');\n",
              "        buttonEl.style.display =\n",
              "          google.colab.kernel.accessAllowed ? 'block' : 'none';\n",
              "\n",
              "        async function convertToInteractive(key) {\n",
              "          const element = document.querySelector('#df-6d7033da-8b7a-4d9a-a5fc-0a6d6f5818e2');\n",
              "          const dataTable =\n",
              "            await google.colab.kernel.invokeFunction('convertToInteractive',\n",
              "                                                     [key], {});\n",
              "          if (!dataTable) return;\n",
              "\n",
              "          const docLinkHtml = 'Like what you see? Visit the ' +\n",
              "            '<a target=\"_blank\" href=https://colab.research.google.com/notebooks/data_table.ipynb>data table notebook</a>'\n",
              "            + ' to learn more about interactive tables.';\n",
              "          element.innerHTML = '';\n",
              "          dataTable['output_type'] = 'display_data';\n",
              "          await google.colab.output.renderOutput(dataTable, element);\n",
              "          const docLink = document.createElement('div');\n",
              "          docLink.innerHTML = docLinkHtml;\n",
              "          element.appendChild(docLink);\n",
              "        }\n",
              "      </script>\n",
              "    </div>\n",
              "  </div>\n",
              "  "
            ]
          },
          "metadata": {},
          "execution_count": 33
        }
      ]
    },
    {
      "cell_type": "code",
      "source": [
        "H=[]\n",
        "H.append(0)\n",
        "for i in range(len(C)-1):\n",
        "    d=[int(x%2) for x in C[i]+C[i+1]]\n",
        "    H.append(np.sum(d))\n",
        "      \n",
        "Hd=np.min(H[1:])\n",
        "print('Minimum Distance:',Hd)"
      ],
      "metadata": {
        "colab": {
          "base_uri": "https://localhost:8080/"
        },
        "id": "wnspRT6v2PEz",
        "outputId": "e4918bd5-adea-4bd5-ca67-cfc2fd45fb14"
      },
      "execution_count": 34,
      "outputs": [
        {
          "output_type": "stream",
          "name": "stdout",
          "text": [
            "Minimum Distance: 3\n"
          ]
        }
      ]
    },
    {
      "cell_type": "code",
      "source": [
        "s=Hd-1\n",
        "print(\"Error detecting capacity: upto\",s,\"bits\")\n",
        "t=0.5*(Hd-1)\n",
        "print(\"Error correcting capacity: upto\",int(t),\"bits\")"
      ],
      "metadata": {
        "colab": {
          "base_uri": "https://localhost:8080/"
        },
        "id": "JoVWThUr2RVI",
        "outputId": "2c254746-d1d4-4fab-f03d-89a86f146080"
      },
      "execution_count": 35,
      "outputs": [
        {
          "output_type": "stream",
          "name": "stdout",
          "text": [
            "Error detecting capacity: upto 2 bits\n",
            "Error correcting capacity: upto 1 bits\n"
          ]
        }
      ]
    },
    {
      "cell_type": "code",
      "source": [
        ""
      ],
      "metadata": {
        "id": "GoR9x9BM2UKS"
      },
      "execution_count": null,
      "outputs": []
    }
  ]
}